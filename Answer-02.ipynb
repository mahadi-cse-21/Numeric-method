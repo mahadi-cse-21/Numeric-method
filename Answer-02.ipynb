{
 "cells": [
  {
   "cell_type": "code",
   "execution_count": 12,
   "metadata": {},
   "outputs": [
    {
     "name": "stdout",
     "output_type": "stream",
     "text": [
      "Number of Iteration required  for Bisection Method: 17\n",
      "Number of Iteration required for False Postition Method : 51\n",
      "Approximate value of t using Bisection Method is : 19.999980926513672\n",
      "Approximate value of t using False Position Method is : 19.999999999999993\n"
     ]
    }
   ],
   "source": [
    "def f(t):\n",
    "    return t*t*t -33*t*t + 290*t - 600\n",
    "a = 12.0\n",
    "b = 25.0\n",
    "def bisection(a,b):\n",
    "    count=0\n",
    "    while(abs(b-a)>0.0001):\n",
    "     count+=1\n",
    "     x0 = (a+b)/2.0\n",
    "     if(f(x0)*f(a)<0):\n",
    "        b=x0\n",
    "     else:\n",
    "        a=x0\n",
    "    x0 = (a+b)/2\n",
    "    print(f\"Number of Iteration required  for Bisection Method: {count}\")\n",
    "    return x0\n",
    "\n",
    "def FalsePositin(a,b):\n",
    "    count=0\n",
    "    while(abs(b-a)>0.0001):\n",
    "     count+=1\n",
    "     x0 = a - ((f(a)*(b-a))/(f(b)-f(a)))\n",
    "     if(f(x0)*f(a)<0):\n",
    "        b=x0\n",
    "     else:\n",
    "        a=x0\n",
    "    x0 = a - ((f(a)*(b-a))/(f(b)-f(a)))\n",
    "    print(f\"Number of Iteration required for False Postition Method : {count}\")\n",
    "    return x0\n",
    " \n",
    "\n",
    "ans1 = bisection(a,b)\n",
    "ans2 = FalsePositin(a,b)\n",
    "print(f\"Approximate value of t using Bisection Method is : {ans1}\")\n",
    "print(f\"Approximate value of t using False Position Method is : {ans2}\")\n",
    "\n"
   ]
  }
 ],
 "metadata": {
  "kernelspec": {
   "display_name": "Python 3",
   "language": "python",
   "name": "python3"
  },
  "language_info": {
   "codemirror_mode": {
    "name": "ipython",
    "version": 3
   },
   "file_extension": ".py",
   "mimetype": "text/x-python",
   "name": "python",
   "nbconvert_exporter": "python",
   "pygments_lexer": "ipython3",
   "version": "3.11.9"
  }
 },
 "nbformat": 4,
 "nbformat_minor": 2
}

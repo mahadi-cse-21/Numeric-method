{
 "cells": [
  {
   "cell_type": "code",
   "execution_count": 3,
   "metadata": {},
   "outputs": [
    {
     "name": "stdout",
     "output_type": "stream",
     "text": [
      "Slope (m): 2.060000000000001\n",
      "Intercept (b): -0.06000000000000298\n",
      "\n",
      "NumPy Slope (m): 2.0600000000000005\n",
      "NumPy Intercept (b): -0.060000000000004196\n"
     ]
    }
   ],
   "source": [
    "import numpy as np\n",
    "\n",
    "def least_squares(x, y):\n",
    "    \"\"\"\n",
    "    Calculates the coefficients (slope and intercept) of a linear regression\n",
    "    using the least squares method.\n",
    "\n",
    "    Args:\n",
    "        x: A list or NumPy array of x-values.\n",
    "        y: A list or NumPy array of corresponding y-values.\n",
    "\n",
    "    Returns:\n",
    "        A tuple (slope, intercept).\n",
    "    \"\"\"\n",
    "\n",
    "    x = np.array(x)  # Convert to NumPy arrays for easier calculations\n",
    "    y = np.array(y)\n",
    "\n",
    "    n = len(x)\n",
    "    sum_x = np.sum(x)\n",
    "    sum_y = np.sum(y)\n",
    "    sum_xy = np.sum(x * y)\n",
    "    sum_x_squared = np.sum(x**2)\n",
    "\n",
    "    # Calculate the slope (m)\n",
    "    numerator = n * sum_xy - sum_x * sum_y\n",
    "    denominator = n * sum_x_squared - sum_x**2\n",
    "    if denominator == 0:\n",
    "        return float('inf'), float('inf') #Handle vertical line edge case.\n",
    "    m = numerator / denominator\n",
    "\n",
    "    # Calculate the intercept (b)\n",
    "    b = (sum_y - m * sum_x) / n\n",
    "\n",
    "    return m, b\n",
    "\n",
    "# Example usage:\n",
    "x_values = [1, 2, 3, 4, 5]\n",
    "y_values = [2.1, 3.9, 6.2, 8.1, 10.3]\n",
    "\n",
    "slope, intercept = least_squares(x_values, y_values)\n",
    "\n",
    "print(f\"Slope (m): {slope}\")\n",
    "print(f\"Intercept (b): {intercept}\")\n",
    "\n",
    "#If you want to use numpy's polyfit method.\n",
    "coefficients = np.polyfit(x_values,y_values,1)\n",
    "numpy_slope = coefficients[0]\n",
    "numpy_intercept = coefficients[1]\n",
    "\n",
    "print(f\"\\nNumPy Slope (m): {numpy_slope}\")\n",
    "print(f\"NumPy Intercept (b): {numpy_intercept}\")"
   ]
  }
 ],
 "metadata": {
  "kernelspec": {
   "display_name": "Python 3",
   "language": "python",
   "name": "python3"
  },
  "language_info": {
   "codemirror_mode": {
    "name": "ipython",
    "version": 3
   },
   "file_extension": ".py",
   "mimetype": "text/x-python",
   "name": "python",
   "nbconvert_exporter": "python",
   "pygments_lexer": "ipython3",
   "version": "3.11.9"
  }
 },
 "nbformat": 4,
 "nbformat_minor": 2
}

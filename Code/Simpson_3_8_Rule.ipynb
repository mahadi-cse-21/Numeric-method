{
 "cells": [
  {
   "cell_type": "code",
   "execution_count": null,
   "metadata": {},
   "outputs": [
    {
     "name": "stdout",
     "output_type": "stream",
     "text": [
      "Approximate integral using Simpson's 3/8 rule: 6456.148148148146\n"
     ]
    }
   ],
   "source": [
    "def f(x):\n",
    "    return 4 * pow(x, 4) + 3 * x * x + 2 * x + 5\n",
    "\n",
    "import numpy as np\n",
    "\n",
    "def simpsons_38_rule(f, a, b, n):\n",
    "    h = (b - a) / n\n",
    "    result = f(a) + f(b)\n",
    "    for i in range(1, n):\n",
    "        if i % 3 == 0:\n",
    "            result += 2 * f(a + i * h)\n",
    "        else:\n",
    "            result += 3 * f(a + i * h)\n",
    "    return (3 * h / 8) * result\n",
    "\n",
    "a = 2  \n",
    "b = 6 \n",
    "n = 6  \n",
    "\n",
    "integral = simpsons_38_rule(f, a, b, n)\n",
    "print(\"Approximate integral using Simpson's 3/8 rule:\", integral)\n"
   ]
  }
 ],
 "metadata": {
  "kernelspec": {
   "display_name": "Python 3",
   "language": "python",
   "name": "python3"
  },
  "language_info": {
   "codemirror_mode": {
    "name": "ipython",
    "version": 3
   },
   "file_extension": ".py",
   "mimetype": "text/x-python",
   "name": "python",
   "nbconvert_exporter": "python",
   "pygments_lexer": "ipython3",
   "version": "3.11.9"
  }
 },
 "nbformat": 4,
 "nbformat_minor": 2
}

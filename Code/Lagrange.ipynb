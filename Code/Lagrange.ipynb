{
 "cells": [
  {
   "cell_type": "code",
   "execution_count": 1,
   "metadata": {},
   "outputs": [
    {
     "name": "stdout",
     "output_type": "stream",
     "text": [
      "3.875\n"
     ]
    }
   ],
   "source": [
    "import numpy as np\n",
    "\n",
    "def lagrange_interpolation(x, y, x_interp):\n",
    "    n = len(x)\n",
    "    result = 0\n",
    "    for i in range(n):\n",
    "        term = y[i]\n",
    "        for j in range(n):\n",
    "            if i != j:\n",
    "                term *= (x_interp - x[j]) / (x[i] - x[j])\n",
    "        result += term\n",
    "    return result\n",
    "\n",
    "x = np.array([1, 2, 3])\n",
    "y = np.array([2, 3, 5])\n",
    "x_interp = 2.5\n",
    "\n",
    "result = lagrange_interpolation(x, y, x_interp)\n",
    "print(result)\n"
   ]
  }
 ],
 "metadata": {
  "kernelspec": {
   "display_name": "Python 3",
   "language": "python",
   "name": "python3"
  },
  "language_info": {
   "codemirror_mode": {
    "name": "ipython",
    "version": 3
   },
   "file_extension": ".py",
   "mimetype": "text/x-python",
   "name": "python",
   "nbconvert_exporter": "python",
   "pygments_lexer": "ipython3",
   "version": "3.11.9"
  }
 },
 "nbformat": 4,
 "nbformat_minor": 2
}

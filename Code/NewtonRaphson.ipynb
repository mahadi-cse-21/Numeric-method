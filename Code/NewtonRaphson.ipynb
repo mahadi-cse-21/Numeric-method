{
 "cells": [
  {
   "cell_type": "code",
   "execution_count": 2,
   "metadata": {},
   "outputs": [
    {
     "name": "stdout",
     "output_type": "stream",
     "text": [
      "0.4444444444444444\n",
      "-1.6666666666666667\n",
      "0.6666666666666666\n",
      "0.07111111111111135\n",
      "-1.1333333333333333\n",
      "0.9333333333333333\n",
      "0.0039369473279502465\n",
      "-1.0078431372549015\n",
      "0.9960784313725493\n",
      "1.5259254734667493e-05\n",
      "-1.000030518043794\n",
      "0.999984740978103\n",
      "2.3283086569847455e-10\n",
      "-1.0000000004656615\n",
      "0.9999999997671692\n"
     ]
    }
   ],
   "source": [
    "def f(x):\n",
    "    return x*x - 3*x +2\n",
    "def fp(x):\n",
    "    return 2*x-3\n",
    "\n",
    "\n",
    "x0 = 0\n",
    "\n",
    "while(f(x0)>0.00001):\n",
    "    x0 = x0 - (f(x0)/fp(x0))\n",
    "    \n",
    "    print(f(x0))\n",
    "    print(fp(x0))\n",
    "    print(x0)"
   ]
  }
 ],
 "metadata": {
  "kernelspec": {
   "display_name": "Python 3",
   "language": "python",
   "name": "python3"
  },
  "language_info": {
   "codemirror_mode": {
    "name": "ipython",
    "version": 3
   },
   "file_extension": ".py",
   "mimetype": "text/x-python",
   "name": "python",
   "nbconvert_exporter": "python",
   "pygments_lexer": "ipython3",
   "version": "3.11.9"
  }
 },
 "nbformat": 4,
 "nbformat_minor": 2
}

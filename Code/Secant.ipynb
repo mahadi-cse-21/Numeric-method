{
 "cells": [
  {
   "cell_type": "code",
   "execution_count": 4,
   "metadata": {},
   "outputs": [
    {
     "name": "stdout",
     "output_type": "stream",
     "text": [
      "The root is approximately: 5.741657386675193\n"
     ]
    }
   ],
   "source": [
    "def f(x):\n",
    "    return x*x - 4*x - 10\n",
    "x1 = 4\n",
    "x2 = 2\n",
    " \n",
    "\n",
    "while(abs(x2-x1)>0.00001):\n",
    "    x3 = x2 - ((f(x2)*(x2-x1))/(f(x2)-f(x1)))\n",
    "    \n",
    "    x1= x2\n",
    "    x2 = x3\n",
    "print(f\"The root is approximately: {x3}\")"
   ]
  }
 ],
 "metadata": {
  "kernelspec": {
   "display_name": "Python 3",
   "language": "python",
   "name": "python3"
  },
  "language_info": {
   "codemirror_mode": {
    "name": "ipython",
    "version": 3
   },
   "file_extension": ".py",
   "mimetype": "text/x-python",
   "name": "python",
   "nbconvert_exporter": "python",
   "pygments_lexer": "ipython3",
   "version": "3.11.9"
  }
 },
 "nbformat": 4,
 "nbformat_minor": 2
}

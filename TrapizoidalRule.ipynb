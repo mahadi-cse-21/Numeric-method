{
 "cells": [
  {
   "cell_type": "code",
   "execution_count": 1,
   "metadata": {},
   "outputs": [
    {
     "name": "stdout",
     "output_type": "stream",
     "text": [
      "After applying trapezoidal rule: 6472.65625\n",
      "\n"
     ]
    }
   ],
   "source": [
    "def f(x):\n",
    "    return 4*pow(x, 4) + 3*x*x + 2*x + 5\n",
    "\n",
    "def trapezoidal(x1, x2, h):\n",
    "    n = int((x2 - x1) / h)\n",
    "    x = []\n",
    "    y = []\n",
    "    i = x1\n",
    "    while i <= x2:\n",
    "        x.append(i)\n",
    "        i += h\n",
    "    for i in range(len(x)):\n",
    "        y.append(f(x[i]))\n",
    "\n",
    "    sum = 0.0\n",
    "    for i in range(1, len(x) - 1):\n",
    "        sum += 2 * y[i]\n",
    "\n",
    "    sum += y[0] + y[n]\n",
    "    \n",
    "    return (h * sum) / 2\n",
    "\n",
    "x1 = 2\n",
    "x2 = 6\n",
    "h = 0.25\n",
    "print(f\"After applying trapezoidal rule: {trapezoidal(x1, x2, h)}\\n\")\n"
   ]
  }
 ],
 "metadata": {
  "kernelspec": {
   "display_name": "Python 3",
   "language": "python",
   "name": "python3"
  },
  "language_info": {
   "codemirror_mode": {
    "name": "ipython",
    "version": 3
   },
   "file_extension": ".py",
   "mimetype": "text/x-python",
   "name": "python",
   "nbconvert_exporter": "python",
   "pygments_lexer": "ipython3",
   "version": "3.11.9"
  }
 },
 "nbformat": 4,
 "nbformat_minor": 2
}

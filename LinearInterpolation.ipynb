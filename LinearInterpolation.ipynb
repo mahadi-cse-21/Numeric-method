{
 "cells": [
  {
   "cell_type": "code",
   "execution_count": 2,
   "metadata": {},
   "outputs": [
    {
     "name": "stdout",
     "output_type": "stream",
     "text": [
      "The interpolated value at x = 2.5 is y = 1.57315\n"
     ]
    }
   ],
   "source": [
    "def linear_interpolation(x0, y0, x1, y1, x):\n",
    "    return y0 + (x - x0) * (y1 - y0) / (x1 - x0)\n",
    "\n",
    "\n",
    "x0 = 2\n",
    "y0 = 1.4142\n",
    "x1 = 3\n",
    "y1 = 1.7321\n",
    "x = 2.5 \n",
    "\n",
    "y = linear_interpolation(x0, y0, x1, y1, x)\n",
    "print(f\"The interpolated value at x = {x} is y = {y}\")\n"
   ]
  }
 ],
 "metadata": {
  "kernelspec": {
   "display_name": "Python 3",
   "language": "python",
   "name": "python3"
  },
  "language_info": {
   "codemirror_mode": {
    "name": "ipython",
    "version": 3
   },
   "file_extension": ".py",
   "mimetype": "text/x-python",
   "name": "python",
   "nbconvert_exporter": "python",
   "pygments_lexer": "ipython3",
   "version": "3.11.9"
  }
 },
 "nbformat": 4,
 "nbformat_minor": 2
}

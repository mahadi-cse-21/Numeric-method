{
 "cells": [
  {
   "cell_type": "code",
   "execution_count": 27,
   "metadata": {},
   "outputs": [
    {
     "name": "stdout",
     "output_type": "stream",
     "text": [
      "Actual result is : 7080.533333333334\n",
      "Approximate integral using Simpson's 3/8 rule: 6940.621987500002\n",
      "Approximate integral using Trapizoidal rule: 7083.533280000001\n",
      "Error of Simpsons Rule is: 0.020158329625977384\n",
      "Error of Trapizoidal Rule is : 2.9999466666668013\n"
     ]
    }
   ],
   "source": [
    "\n",
    "\n",
    "def f(x):\n",
    "    return 4*x**4 + 3*x**3 - 2*x**2 + 5*x - 4\n",
    "def integral(x):\n",
    "    return float(((4*x**5)/5) + ((3*x**4)/4) - ((2*x**3)/3) + ((5*x**2)/2)- 4*x)\n",
    "\n",
    "a = 2\n",
    "b = 6\n",
    "h = 0.1\n",
    "\n",
    "n = int((b - a) / h)\n",
    "\n",
    "def TrapizoidalRule(f, a, b, n):\n",
    "    result = f(a) + f(b)\n",
    "    for i in range(1, n):\n",
    "        result += 2 * f(a + i * h)  \n",
    "    return result * h / 2\n",
    "\n",
    "\n",
    "def simpsons_3_8_rule(f, a, b, n):\n",
    "    \n",
    "    result = f(a) + f(b)\n",
    "    for i in range(1, n):\n",
    "        if i % 3 == 0:\n",
    "            result += 2 *  f(a + i * h)\n",
    "        else:\n",
    "            result += 3 * f(a + i * h)\n",
    "    return (3 * h / 8) * result\n",
    "\n",
    "solution = simpsons_3_8_rule(f, a, b, n)\n",
    "solution2 = TrapizoidalRule(f,a,b,n)\n",
    "actual = (integral(6)-integral(2))\n",
    "print(f\"Actual result is : {actual}\")\n",
    "print(f\"Approximate integral using Simpson's 3/8 rule: {solution}\")\n",
    "print(f\"Approximate integral using Trapizoidal rule: {solution2}\")\n",
    "print(f\"Error of Simpsons Rule is: {abs(actual-solution)/solution}\")\n",
    "print(f\"Error of Trapizoidal Rule is : {abs(actual-solution2)}\")\n",
    "\n",
    "\n",
    "\n",
    "\n",
    "\n",
    "\n",
    "\n"
   ]
  },
  {
   "cell_type": "markdown",
   "metadata": {},
   "source": []
  }
 ],
 "metadata": {
  "kernelspec": {
   "display_name": "Python 3",
   "language": "python",
   "name": "python3"
  },
  "language_info": {
   "codemirror_mode": {
    "name": "ipython",
    "version": 3
   },
   "file_extension": ".py",
   "mimetype": "text/x-python",
   "name": "python",
   "nbconvert_exporter": "python",
   "pygments_lexer": "ipython3",
   "version": "3.11.9"
  }
 },
 "nbformat": 4,
 "nbformat_minor": 2
}

{
 "cells": [
  {
   "cell_type": "code",
   "execution_count": 1,
   "metadata": {},
   "outputs": [
    {
     "name": "stdout",
     "output_type": "stream",
     "text": [
      "The value of the function is : 3414\n"
     ]
    }
   ],
   "source": [
    "n=int(input(\"Enter the order of x: \"))\n",
    "x=int(input(\"Enter the value of x: \"))\n",
    "\n",
    "y=[]\n",
    "res= 0\n",
    "j = n\n",
    "for i in range(n+1):\n",
    "    y.append(int(input(\"The value of coefficient of x^{j}: \")))\n",
    "    j=j-1\n",
    "for i in range(n+1):\n",
    "    res = res*x+y[i]\n",
    "\n",
    "print(f\"The value of the function is : {res}\")\n"
   ]
  }
 ],
 "metadata": {
  "kernelspec": {
   "display_name": "Python 3",
   "language": "python",
   "name": "python3"
  },
  "language_info": {
   "codemirror_mode": {
    "name": "ipython",
    "version": 3
   },
   "file_extension": ".py",
   "mimetype": "text/x-python",
   "name": "python",
   "nbconvert_exporter": "python",
   "pygments_lexer": "ipython3",
   "version": "3.11.9"
  }
 },
 "nbformat": 4,
 "nbformat_minor": 2
}

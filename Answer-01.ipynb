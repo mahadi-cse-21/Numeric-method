{
 "cells": [
  {
   "cell_type": "code",
   "execution_count": 4,
   "metadata": {},
   "outputs": [
    {
     "name": "stdout",
     "output_type": "stream",
     "text": [
      "Satelite Position at t  = 2.5 using Horner's Rule is 43.75\n"
     ]
    }
   ],
   "source": [
    "n = int(input(\"Enter highest power of t :\"))\n",
    "t = float(input(\"Enter the value of t: \"))\n",
    "p =n\n",
    "sum = 0.0\n",
    "for i in range(n+1):\n",
    "    a = int(input(\"Enter the coefficient of x^{n}: \"))\n",
    "    sum=sum*t+a\n",
    "    p-=1\n",
    "print(f\"Satelite Position at t  = {t} using Horner's Rule is {sum}\")"
   ]
  }
 ],
 "metadata": {
  "kernelspec": {
   "display_name": "Python 3",
   "language": "python",
   "name": "python3"
  },
  "language_info": {
   "codemirror_mode": {
    "name": "ipython",
    "version": 3
   },
   "file_extension": ".py",
   "mimetype": "text/x-python",
   "name": "python",
   "nbconvert_exporter": "python",
   "pygments_lexer": "ipython3",
   "version": "3.11.9"
  }
 },
 "nbformat": 4,
 "nbformat_minor": 2
}
